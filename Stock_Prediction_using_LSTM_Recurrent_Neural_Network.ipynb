{
  "nbformat": 4,
  "nbformat_minor": 0,
  "metadata": {
    "colab": {
      "provenance": []
    },
    "kernelspec": {
      "name": "python3",
      "display_name": "Python 3"
    },
    "language_info": {
      "name": "python"
    }
  },
  "cells": [
    {
      "cell_type": "code",
      "execution_count": 1,
      "metadata": {
        "id": "tKSwd8dQMUD1"
      },
      "outputs": [],
      "source": [
        "import numpy as np\n",
        "import pandas as pd\n",
        "import matplotlib.pyplot as plt\n"
      ]
    },
    {
      "cell_type": "markdown",
      "source": [
        "importing the training set"
      ],
      "metadata": {
        "id": "ZKftr30yPBvq"
      }
    },
    {
      "cell_type": "code",
      "source": [
        "dataset_train= pd.read_csv('Google_Stock_Price_Train.csv')"
      ],
      "metadata": {
        "id": "vD5o2tJUNrgx"
      },
      "execution_count": 5,
      "outputs": []
    },
    {
      "cell_type": "code",
      "source": [
        "training_set= dataset_train.iloc[:,1:2].values"
      ],
      "metadata": {
        "id": "p0VVwK_UOQU1"
      },
      "execution_count": 6,
      "outputs": []
    },
    {
      "cell_type": "code",
      "source": [
        "training_set"
      ],
      "metadata": {
        "colab": {
          "base_uri": "https://localhost:8080/",
          "height": 0
        },
        "id": "w-cOEYaTOipo",
        "outputId": "d64ae1a2-37ac-4c9d-e687-40c59fdf6219"
      },
      "execution_count": 9,
      "outputs": [
        {
          "output_type": "execute_result",
          "data": {
            "text/plain": [
              "array([[325.25],\n",
              "       [331.27],\n",
              "       [329.83],\n",
              "       ...,\n",
              "       [793.7 ],\n",
              "       [783.33],\n",
              "       [782.75]])"
            ]
          },
          "metadata": {},
          "execution_count": 9
        }
      ]
    },
    {
      "cell_type": "code",
      "source": [
        "dataset_train.head()"
      ],
      "metadata": {
        "colab": {
          "base_uri": "https://localhost:8080/",
          "height": 206
        },
        "id": "2mw6_O9iOrUj",
        "outputId": "fb0657c4-78e9-453e-b750-1a8ea15a09fa"
      },
      "execution_count": 10,
      "outputs": [
        {
          "output_type": "execute_result",
          "data": {
            "text/plain": [
              "       Date    Open    High     Low   Close      Volume\n",
              "0  1/3/2012  325.25  332.83  324.97  663.59   7,380,500\n",
              "1  1/4/2012  331.27  333.87  329.08  666.45   5,749,400\n",
              "2  1/5/2012  329.83  330.75  326.89  657.21   6,590,300\n",
              "3  1/6/2012  328.34  328.77  323.68  648.24   5,405,900\n",
              "4  1/9/2012  322.04  322.29  309.46  620.76  11,688,800"
            ],
            "text/html": [
              "\n",
              "  <div id=\"df-79f50ff7-022f-4d8c-821f-4dae8e65979a\">\n",
              "    <div class=\"colab-df-container\">\n",
              "      <div>\n",
              "<style scoped>\n",
              "    .dataframe tbody tr th:only-of-type {\n",
              "        vertical-align: middle;\n",
              "    }\n",
              "\n",
              "    .dataframe tbody tr th {\n",
              "        vertical-align: top;\n",
              "    }\n",
              "\n",
              "    .dataframe thead th {\n",
              "        text-align: right;\n",
              "    }\n",
              "</style>\n",
              "<table border=\"1\" class=\"dataframe\">\n",
              "  <thead>\n",
              "    <tr style=\"text-align: right;\">\n",
              "      <th></th>\n",
              "      <th>Date</th>\n",
              "      <th>Open</th>\n",
              "      <th>High</th>\n",
              "      <th>Low</th>\n",
              "      <th>Close</th>\n",
              "      <th>Volume</th>\n",
              "    </tr>\n",
              "  </thead>\n",
              "  <tbody>\n",
              "    <tr>\n",
              "      <th>0</th>\n",
              "      <td>1/3/2012</td>\n",
              "      <td>325.25</td>\n",
              "      <td>332.83</td>\n",
              "      <td>324.97</td>\n",
              "      <td>663.59</td>\n",
              "      <td>7,380,500</td>\n",
              "    </tr>\n",
              "    <tr>\n",
              "      <th>1</th>\n",
              "      <td>1/4/2012</td>\n",
              "      <td>331.27</td>\n",
              "      <td>333.87</td>\n",
              "      <td>329.08</td>\n",
              "      <td>666.45</td>\n",
              "      <td>5,749,400</td>\n",
              "    </tr>\n",
              "    <tr>\n",
              "      <th>2</th>\n",
              "      <td>1/5/2012</td>\n",
              "      <td>329.83</td>\n",
              "      <td>330.75</td>\n",
              "      <td>326.89</td>\n",
              "      <td>657.21</td>\n",
              "      <td>6,590,300</td>\n",
              "    </tr>\n",
              "    <tr>\n",
              "      <th>3</th>\n",
              "      <td>1/6/2012</td>\n",
              "      <td>328.34</td>\n",
              "      <td>328.77</td>\n",
              "      <td>323.68</td>\n",
              "      <td>648.24</td>\n",
              "      <td>5,405,900</td>\n",
              "    </tr>\n",
              "    <tr>\n",
              "      <th>4</th>\n",
              "      <td>1/9/2012</td>\n",
              "      <td>322.04</td>\n",
              "      <td>322.29</td>\n",
              "      <td>309.46</td>\n",
              "      <td>620.76</td>\n",
              "      <td>11,688,800</td>\n",
              "    </tr>\n",
              "  </tbody>\n",
              "</table>\n",
              "</div>\n",
              "      <button class=\"colab-df-convert\" onclick=\"convertToInteractive('df-79f50ff7-022f-4d8c-821f-4dae8e65979a')\"\n",
              "              title=\"Convert this dataframe to an interactive table.\"\n",
              "              style=\"display:none;\">\n",
              "        \n",
              "  <svg xmlns=\"http://www.w3.org/2000/svg\" height=\"24px\"viewBox=\"0 0 24 24\"\n",
              "       width=\"24px\">\n",
              "    <path d=\"M0 0h24v24H0V0z\" fill=\"none\"/>\n",
              "    <path d=\"M18.56 5.44l.94 2.06.94-2.06 2.06-.94-2.06-.94-.94-2.06-.94 2.06-2.06.94zm-11 1L8.5 8.5l.94-2.06 2.06-.94-2.06-.94L8.5 2.5l-.94 2.06-2.06.94zm10 10l.94 2.06.94-2.06 2.06-.94-2.06-.94-.94-2.06-.94 2.06-2.06.94z\"/><path d=\"M17.41 7.96l-1.37-1.37c-.4-.4-.92-.59-1.43-.59-.52 0-1.04.2-1.43.59L10.3 9.45l-7.72 7.72c-.78.78-.78 2.05 0 2.83L4 21.41c.39.39.9.59 1.41.59.51 0 1.02-.2 1.41-.59l7.78-7.78 2.81-2.81c.8-.78.8-2.07 0-2.86zM5.41 20L4 18.59l7.72-7.72 1.47 1.35L5.41 20z\"/>\n",
              "  </svg>\n",
              "      </button>\n",
              "      \n",
              "  <style>\n",
              "    .colab-df-container {\n",
              "      display:flex;\n",
              "      flex-wrap:wrap;\n",
              "      gap: 12px;\n",
              "    }\n",
              "\n",
              "    .colab-df-convert {\n",
              "      background-color: #E8F0FE;\n",
              "      border: none;\n",
              "      border-radius: 50%;\n",
              "      cursor: pointer;\n",
              "      display: none;\n",
              "      fill: #1967D2;\n",
              "      height: 32px;\n",
              "      padding: 0 0 0 0;\n",
              "      width: 32px;\n",
              "    }\n",
              "\n",
              "    .colab-df-convert:hover {\n",
              "      background-color: #E2EBFA;\n",
              "      box-shadow: 0px 1px 2px rgba(60, 64, 67, 0.3), 0px 1px 3px 1px rgba(60, 64, 67, 0.15);\n",
              "      fill: #174EA6;\n",
              "    }\n",
              "\n",
              "    [theme=dark] .colab-df-convert {\n",
              "      background-color: #3B4455;\n",
              "      fill: #D2E3FC;\n",
              "    }\n",
              "\n",
              "    [theme=dark] .colab-df-convert:hover {\n",
              "      background-color: #434B5C;\n",
              "      box-shadow: 0px 1px 3px 1px rgba(0, 0, 0, 0.15);\n",
              "      filter: drop-shadow(0px 1px 2px rgba(0, 0, 0, 0.3));\n",
              "      fill: #FFFFFF;\n",
              "    }\n",
              "  </style>\n",
              "\n",
              "      <script>\n",
              "        const buttonEl =\n",
              "          document.querySelector('#df-79f50ff7-022f-4d8c-821f-4dae8e65979a button.colab-df-convert');\n",
              "        buttonEl.style.display =\n",
              "          google.colab.kernel.accessAllowed ? 'block' : 'none';\n",
              "\n",
              "        async function convertToInteractive(key) {\n",
              "          const element = document.querySelector('#df-79f50ff7-022f-4d8c-821f-4dae8e65979a');\n",
              "          const dataTable =\n",
              "            await google.colab.kernel.invokeFunction('convertToInteractive',\n",
              "                                                     [key], {});\n",
              "          if (!dataTable) return;\n",
              "\n",
              "          const docLinkHtml = 'Like what you see? Visit the ' +\n",
              "            '<a target=\"_blank\" href=https://colab.research.google.com/notebooks/data_table.ipynb>data table notebook</a>'\n",
              "            + ' to learn more about interactive tables.';\n",
              "          element.innerHTML = '';\n",
              "          dataTable['output_type'] = 'display_data';\n",
              "          await google.colab.output.renderOutput(dataTable, element);\n",
              "          const docLink = document.createElement('div');\n",
              "          docLink.innerHTML = docLinkHtml;\n",
              "          element.appendChild(docLink);\n",
              "        }\n",
              "      </script>\n",
              "    </div>\n",
              "  </div>\n",
              "  "
            ]
          },
          "metadata": {},
          "execution_count": 10
        }
      ]
    },
    {
      "cell_type": "markdown",
      "source": [
        "feature selection\n"
      ],
      "metadata": {
        "id": "mi1sh2xdPGdQ"
      }
    },
    {
      "cell_type": "code",
      "source": [
        "from sklearn.preprocessing import MinMaxScaler\n",
        "sc=MinMaxScaler(feature_range=(0,1))\n",
        "training_set_scaled = sc.fit_transform(training_set)\n"
      ],
      "metadata": {
        "id": "fK4l1K1IPKbL"
      },
      "execution_count": 11,
      "outputs": []
    },
    {
      "cell_type": "code",
      "source": [
        "training_set_scaled\n"
      ],
      "metadata": {
        "colab": {
          "base_uri": "https://localhost:8080/",
          "height": 0
        },
        "id": "Sjo80WwlPlrj",
        "outputId": "aa5bdecb-0502-4f7e-b44c-72cf61994db7"
      },
      "execution_count": 15,
      "outputs": [
        {
          "output_type": "execute_result",
          "data": {
            "text/plain": [
              "array([[0.08581368],\n",
              "       [0.09701243],\n",
              "       [0.09433366],\n",
              "       ...,\n",
              "       [0.95725128],\n",
              "       [0.93796041],\n",
              "       [0.93688146]])"
            ]
          },
          "metadata": {},
          "execution_count": 15
        }
      ]
    },
    {
      "cell_type": "code",
      "source": [
        "X_train = []\n",
        "y_train= []\n",
        "for i in range(60,len(training_set_scaled)):\n",
        "    X_train.append(training_set_scaled[i-60:i,0])\n",
        "    y_train.append(training_set_scaled[i,0])\n",
        "X_train,y_train=np.array(X_train), np.array(y_train)  "
      ],
      "metadata": {
        "id": "FXnyPmqGXxkW"
      },
      "execution_count": 27,
      "outputs": []
    },
    {
      "cell_type": "code",
      "source": [
        "X_train"
      ],
      "metadata": {
        "colab": {
          "base_uri": "https://localhost:8080/",
          "height": 0
        },
        "id": "Ec5a--1VYay7",
        "outputId": "f0b68461-3f0c-4309-e641-360e1eec35a6"
      },
      "execution_count": 28,
      "outputs": [
        {
          "output_type": "execute_result",
          "data": {
            "text/plain": [
              "array([[0.08581368, 0.09701243, 0.09433366, ..., 0.07846566, 0.08034452,\n",
              "        0.08497656],\n",
              "       [0.09701243, 0.09433366, 0.09156187, ..., 0.08034452, 0.08497656,\n",
              "        0.08627874],\n",
              "       [0.09433366, 0.09156187, 0.07984225, ..., 0.08497656, 0.08627874,\n",
              "        0.08471612],\n",
              "       ...,\n",
              "       [0.92106928, 0.92438053, 0.93048218, ..., 0.95475854, 0.95204256,\n",
              "        0.95163331],\n",
              "       [0.92438053, 0.93048218, 0.9299055 , ..., 0.95204256, 0.95163331,\n",
              "        0.95725128],\n",
              "       [0.93048218, 0.9299055 , 0.93113327, ..., 0.95163331, 0.95725128,\n",
              "        0.93796041]])"
            ]
          },
          "metadata": {},
          "execution_count": 28
        }
      ]
    },
    {
      "cell_type": "code",
      "source": [
        "y_train"
      ],
      "metadata": {
        "colab": {
          "base_uri": "https://localhost:8080/",
          "height": 0
        },
        "id": "g0bTKkOuYfs-",
        "outputId": "539bf6a0-2cbb-4f31-a5d3-a865fdbbf3f0"
      },
      "execution_count": 29,
      "outputs": [
        {
          "output_type": "execute_result",
          "data": {
            "text/plain": [
              "array([0.08627874, 0.08471612, 0.07454052, ..., 0.95725128, 0.93796041,\n",
              "       0.93688146])"
            ]
          },
          "metadata": {},
          "execution_count": 29
        }
      ]
    },
    {
      "cell_type": "markdown",
      "source": [
        "reshaping\n"
      ],
      "metadata": {
        "id": "iyaqv3eea1q0"
      }
    },
    {
      "cell_type": "code",
      "source": [
        "X_train=np.reshape(X_train ,(X_train.shape[0], X_train.shape[1],1))"
      ],
      "metadata": {
        "id": "tRVsHab4a68C"
      },
      "execution_count": 30,
      "outputs": []
    },
    {
      "cell_type": "code",
      "source": [
        "X_train"
      ],
      "metadata": {
        "colab": {
          "base_uri": "https://localhost:8080/",
          "height": 0
        },
        "id": "kzHrEU4BY7bd",
        "outputId": "d27ba139-8da0-488e-8cb6-ab8d6720385d"
      },
      "execution_count": 31,
      "outputs": [
        {
          "output_type": "execute_result",
          "data": {
            "text/plain": [
              "array([[[0.08581368],\n",
              "        [0.09701243],\n",
              "        [0.09433366],\n",
              "        ...,\n",
              "        [0.07846566],\n",
              "        [0.08034452],\n",
              "        [0.08497656]],\n",
              "\n",
              "       [[0.09701243],\n",
              "        [0.09433366],\n",
              "        [0.09156187],\n",
              "        ...,\n",
              "        [0.08034452],\n",
              "        [0.08497656],\n",
              "        [0.08627874]],\n",
              "\n",
              "       [[0.09433366],\n",
              "        [0.09156187],\n",
              "        [0.07984225],\n",
              "        ...,\n",
              "        [0.08497656],\n",
              "        [0.08627874],\n",
              "        [0.08471612]],\n",
              "\n",
              "       ...,\n",
              "\n",
              "       [[0.92106928],\n",
              "        [0.92438053],\n",
              "        [0.93048218],\n",
              "        ...,\n",
              "        [0.95475854],\n",
              "        [0.95204256],\n",
              "        [0.95163331]],\n",
              "\n",
              "       [[0.92438053],\n",
              "        [0.93048218],\n",
              "        [0.9299055 ],\n",
              "        ...,\n",
              "        [0.95204256],\n",
              "        [0.95163331],\n",
              "        [0.95725128]],\n",
              "\n",
              "       [[0.93048218],\n",
              "        [0.9299055 ],\n",
              "        [0.93113327],\n",
              "        ...,\n",
              "        [0.95163331],\n",
              "        [0.95725128],\n",
              "        [0.93796041]]])"
            ]
          },
          "metadata": {},
          "execution_count": 31
        }
      ]
    },
    {
      "cell_type": "code",
      "source": [
        "from keras.models import Sequential \n",
        "from keras.layers import Dense\n",
        "from keras.layers import LSTM\n",
        "from keras.layers import Dropout\n"
      ],
      "metadata": {
        "id": "aZPIqXZQbOTz"
      },
      "execution_count": 32,
      "outputs": []
    },
    {
      "cell_type": "code",
      "source": [
        "# initilaze the RNN\n",
        "regressor = Sequential() "
      ],
      "metadata": {
        "id": "xo64XsxrdIxF"
      },
      "execution_count": 33,
      "outputs": []
    },
    {
      "cell_type": "code",
      "source": [
        "# adding a first lstm layer and some dropout layer\n",
        "regressor.add(LSTM(units = 50, return_sequences = True, input_shape = (X_train.shape[1],1)))\n",
        "regressor.add(Dropout(0.2))"
      ],
      "metadata": {
        "id": "LweRmWl9dSVa"
      },
      "execution_count": 40,
      "outputs": []
    },
    {
      "cell_type": "code",
      "source": [
        "# adding a second  lstm layer and some dropout layer\n",
        "regressor.add(LSTM(units = 50, return_sequences = True))\n",
        "regressor.add(Dropout(0.2))"
      ],
      "metadata": {
        "id": "319od5kPefNQ"
      },
      "execution_count": 41,
      "outputs": []
    },
    {
      "cell_type": "code",
      "source": [
        "# adding a third  lstm layer and some dropout layer\n",
        "regressor.add(LSTM(units = 50, return_sequences = True))\n",
        "regressor.add(Dropout(0.2))"
      ],
      "metadata": {
        "id": "6oCHTJxtep3P"
      },
      "execution_count": 42,
      "outputs": []
    },
    {
      "cell_type": "code",
      "source": [
        "# adding a fourth  lstm layer and some dropout layer\n",
        "regressor.add(LSTM(units = 50))\n",
        "regressor.add(Dropout(0.2))"
      ],
      "metadata": {
        "id": "3HzoF016ezbT"
      },
      "execution_count": 44,
      "outputs": []
    },
    {
      "cell_type": "code",
      "source": [
        "#adding the output layer\n",
        "regressor.add(Dense(units = 1))\n"
      ],
      "metadata": {
        "id": "m13MM4BrffaO"
      },
      "execution_count": 45,
      "outputs": []
    },
    {
      "cell_type": "code",
      "source": [
        "#compling the RNN\n",
        "regressor.compile(optimizer='adam',loss='mean_squared_error')"
      ],
      "metadata": {
        "id": "p4CCgdmaf-pQ"
      },
      "execution_count": 46,
      "outputs": []
    },
    {
      "cell_type": "code",
      "source": [
        "#fitting the RNN IN TO TRAINING SET\n",
        "regressor.fit(X_train,y_train,epochs=50,batch_size=32)"
      ],
      "metadata": {
        "colab": {
          "base_uri": "https://localhost:8080/",
          "height": 0
        },
        "id": "Q25jVEVZgbLb",
        "outputId": "2786fd6c-569f-4de0-8688-aabaa49662b8"
      },
      "execution_count": 59,
      "outputs": [
        {
          "output_type": "stream",
          "name": "stdout",
          "text": [
            "Epoch 1/50\n",
            "38/38 [==============================] - 9s 218ms/step - loss: 0.0050\n",
            "Epoch 2/50\n",
            "38/38 [==============================] - 9s 243ms/step - loss: 0.0058\n",
            "Epoch 3/50\n",
            "38/38 [==============================] - 9s 244ms/step - loss: 0.0049\n",
            "Epoch 4/50\n",
            "38/38 [==============================] - 8s 213ms/step - loss: 0.0051\n",
            "Epoch 5/50\n",
            "38/38 [==============================] - 9s 246ms/step - loss: 0.0043\n",
            "Epoch 6/50\n",
            "38/38 [==============================] - 9s 248ms/step - loss: 0.0045\n",
            "Epoch 7/50\n",
            "38/38 [==============================] - 8s 224ms/step - loss: 0.0041\n",
            "Epoch 8/50\n",
            "38/38 [==============================] - 9s 234ms/step - loss: 0.0048\n",
            "Epoch 9/50\n",
            "38/38 [==============================] - 9s 248ms/step - loss: 0.0038\n",
            "Epoch 10/50\n",
            "38/38 [==============================] - 9s 247ms/step - loss: 0.0041\n",
            "Epoch 11/50\n",
            "38/38 [==============================] - 8s 216ms/step - loss: 0.0038\n",
            "Epoch 12/50\n",
            "38/38 [==============================] - 9s 248ms/step - loss: 0.0034\n",
            "Epoch 13/50\n",
            "38/38 [==============================] - 9s 249ms/step - loss: 0.0039\n",
            "Epoch 14/50\n",
            "38/38 [==============================] - 9s 228ms/step - loss: 0.0040\n",
            "Epoch 15/50\n",
            "38/38 [==============================] - 9s 234ms/step - loss: 0.0036\n",
            "Epoch 16/50\n",
            "38/38 [==============================] - 9s 249ms/step - loss: 0.0042\n",
            "Epoch 17/50\n",
            "38/38 [==============================] - 9s 249ms/step - loss: 0.0040\n",
            "Epoch 18/50\n",
            "38/38 [==============================] - 8s 215ms/step - loss: 0.0037\n",
            "Epoch 19/50\n",
            "38/38 [==============================] - 9s 247ms/step - loss: 0.0036\n",
            "Epoch 20/50\n",
            "38/38 [==============================] - 9s 247ms/step - loss: 0.0033\n",
            "Epoch 21/50\n",
            "38/38 [==============================] - 9s 227ms/step - loss: 0.0036\n",
            "Epoch 22/50\n",
            "38/38 [==============================] - 9s 238ms/step - loss: 0.0032\n",
            "Epoch 23/50\n",
            "38/38 [==============================] - 9s 248ms/step - loss: 0.0031\n",
            "Epoch 24/50\n",
            "38/38 [==============================] - 9s 249ms/step - loss: 0.0034\n",
            "Epoch 25/50\n",
            "38/38 [==============================] - 8s 220ms/step - loss: 0.0034\n",
            "Epoch 26/50\n",
            "38/38 [==============================] - 9s 250ms/step - loss: 0.0035\n",
            "Epoch 27/50\n",
            "38/38 [==============================] - 9s 249ms/step - loss: 0.0031\n",
            "Epoch 28/50\n",
            "38/38 [==============================] - 9s 239ms/step - loss: 0.0036\n",
            "Epoch 29/50\n",
            "38/38 [==============================] - 9s 223ms/step - loss: 0.0032\n",
            "Epoch 30/50\n",
            "38/38 [==============================] - 9s 246ms/step - loss: 0.0028\n",
            "Epoch 31/50\n",
            "38/38 [==============================] - 9s 249ms/step - loss: 0.0031\n",
            "Epoch 32/50\n",
            "38/38 [==============================] - 8s 219ms/step - loss: 0.0029\n",
            "Epoch 33/50\n",
            "38/38 [==============================] - 9s 249ms/step - loss: 0.0031\n",
            "Epoch 34/50\n",
            "38/38 [==============================] - 9s 249ms/step - loss: 0.0036\n",
            "Epoch 35/50\n",
            "38/38 [==============================] - 9s 251ms/step - loss: 0.0028\n",
            "Epoch 36/50\n",
            "38/38 [==============================] - 8s 219ms/step - loss: 0.0028\n",
            "Epoch 37/50\n",
            "38/38 [==============================] - 10s 253ms/step - loss: 0.0024\n",
            "Epoch 38/50\n",
            "38/38 [==============================] - 10s 252ms/step - loss: 0.0027\n",
            "Epoch 39/50\n",
            "38/38 [==============================] - 9s 233ms/step - loss: 0.0026\n",
            "Epoch 40/50\n",
            "38/38 [==============================] - 9s 235ms/step - loss: 0.0027\n",
            "Epoch 41/50\n",
            "38/38 [==============================] - 9s 249ms/step - loss: 0.0027\n",
            "Epoch 42/50\n",
            "38/38 [==============================] - 9s 250ms/step - loss: 0.0022\n",
            "Epoch 43/50\n",
            "38/38 [==============================] - 8s 221ms/step - loss: 0.0027\n",
            "Epoch 44/50\n",
            "38/38 [==============================] - 9s 250ms/step - loss: 0.0021\n",
            "Epoch 45/50\n",
            "38/38 [==============================] - 9s 250ms/step - loss: 0.0027\n",
            "Epoch 46/50\n",
            "38/38 [==============================] - 9s 246ms/step - loss: 0.0021\n",
            "Epoch 47/50\n",
            "38/38 [==============================] - 8s 219ms/step - loss: 0.0022\n",
            "Epoch 48/50\n",
            "38/38 [==============================] - 9s 250ms/step - loss: 0.0020\n",
            "Epoch 49/50\n",
            "38/38 [==============================] - 10s 251ms/step - loss: 0.0022\n",
            "Epoch 50/50\n",
            "38/38 [==============================] - 9s 227ms/step - loss: 0.0023\n"
          ]
        },
        {
          "output_type": "execute_result",
          "data": {
            "text/plain": [
              "<keras.callbacks.History at 0x7fa423c9cb80>"
            ]
          },
          "metadata": {},
          "execution_count": 59
        }
      ]
    },
    {
      "cell_type": "code",
      "source": [
        "# making prediction and visualize\n",
        "\n",
        "dataset_test = pd.read_csv('Google_Stock_Price_Test.csv')\n",
        "real_stock_price=dataset_test.iloc[:, 1:2].values\n"
      ],
      "metadata": {
        "id": "_gbygti-jlgj"
      },
      "execution_count": 60,
      "outputs": []
    },
    {
      "cell_type": "code",
      "source": [
        "#Getting the predicted stock price\n",
        "dataset_total =pd.concat((dataset_train['Open'],dataset_test['Open']), axis = 0)\n",
        "inputs = dataset_total[len(dataset_total)-len (dataset_test) - 60:].values\n",
        "inputs= inputs.reshape(-1,1)\n",
        "inputs = sc.transform(inputs)\n",
        "X_test = []\n",
        "for i in range(60,80):\n",
        "  X_test.append(inputs[i-60:i,0])\n",
        "X_test = np.array(X_test)\n",
        "X_test = np.reshape(X_test,(X_test.shape[0] , X_test.shape[1], 1))\n",
        "predicted_stock_price= regressor.predict(X_test)\n",
        "predicted_stock_price= sc.inverse_transform(predicted_stock_price)\n"
      ],
      "metadata": {
        "colab": {
          "base_uri": "https://localhost:8080/",
          "height": 0
        },
        "id": "eecoE4H9kKTv",
        "outputId": "8c20753a-ea30-441b-9220-d750f55c9e5e"
      },
      "execution_count": 61,
      "outputs": [
        {
          "output_type": "stream",
          "name": "stdout",
          "text": [
            "1/1 [==============================] - 0s 74ms/step\n"
          ]
        }
      ]
    },
    {
      "cell_type": "code",
      "source": [
        "predicted_stock_price"
      ],
      "metadata": {
        "colab": {
          "base_uri": "https://localhost:8080/",
          "height": 0
        },
        "id": "lA7QtaIAmA7P",
        "outputId": "a3791b23-4d07-4451-a8c8-17e1b90aedaa"
      },
      "execution_count": 62,
      "outputs": [
        {
          "output_type": "execute_result",
          "data": {
            "text/plain": [
              "array([[775.63043],\n",
              "       [773.73285],\n",
              "       [771.84784],\n",
              "       [770.8997 ],\n",
              "       [771.3788 ],\n",
              "       [773.5348 ],\n",
              "       [776.7297 ],\n",
              "       [779.3952 ],\n",
              "       [780.5008 ],\n",
              "       [780.2102 ],\n",
              "       [779.3928 ],\n",
              "       [778.83417],\n",
              "       [778.87494],\n",
              "       [779.585  ],\n",
              "       [780.82446],\n",
              "       [783.1638 ],\n",
              "       [787.0736 ],\n",
              "       [792.17017],\n",
              "       [796.797  ],\n",
              "       [798.2639 ]], dtype=float32)"
            ]
          },
          "metadata": {},
          "execution_count": 62
        }
      ]
    },
    {
      "cell_type": "code",
      "source": [
        "plt.plot(real_stock_price,color = 'red', label = 'Real google stock price')\n",
        "plt.plot(predicted_stock_price,color = 'blue', label = 'predicted google stock price')\n",
        "plt.title('google stock price')\n",
        "plt.xlabel('Time')\n",
        "plt.ylabel('google stock price')\n",
        "plt.legend()\n",
        "plt.show()\n"
      ],
      "metadata": {
        "colab": {
          "base_uri": "https://localhost:8080/",
          "height": 295
        },
        "id": "Hcl-bMeFmDrs",
        "outputId": "ff06da55-3e8d-4739-d33f-046410b0fdf1"
      },
      "execution_count": 63,
      "outputs": [
        {
          "output_type": "display_data",
          "data": {
            "text/plain": [
              "<Figure size 432x288 with 1 Axes>"
            ],
            "image/png": "[encoded data removed]"
          },
          "metadata": {
            "needs_background": "light"
          }
        }
      ]
    }
  ]
}